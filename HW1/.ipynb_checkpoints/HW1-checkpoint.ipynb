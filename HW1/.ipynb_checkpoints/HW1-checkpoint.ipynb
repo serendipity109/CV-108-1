{
 "cells": [
  {
   "cell_type": "markdown",
   "metadata": {},
   "source": [
    "Question 1"
   ]
  },
  {
   "cell_type": "code",
   "execution_count": 1,
   "metadata": {
    "scrolled": false
   },
   "outputs": [
    {
     "data": {
      "text/plain": [
       "<matplotlib.image.AxesImage at 0x11d19e2b0>"
      ]
     },
     "execution_count": 1,
     "metadata": {},
     "output_type": "execute_result"
    }
   ],
   "source": [
    "import cv2\n",
    "import numpy as np\n",
    "from matplotlib import pyplot as plt\n",
    "img = cv2.imread('cvSmall.png')\n",
    "# convert the image into grayscale\n",
    "gray = cv2.cvtColor(img, cv2.COLOR_BGR2GRAY)\n",
    "plt.imshow(gray,'gray')"
   ]
  },
  {
   "cell_type": "code",
   "execution_count": 2,
   "metadata": {},
   "outputs": [],
   "source": [
    "img = cv2.imread('cvSmall.png',0)\n",
    "# threshold\n",
    "ret, bw = cv2.threshold(img,254,1,cv2.THRESH_BINARY_INV)"
   ]
  },
  {
   "cell_type": "code",
   "execution_count": 3,
   "metadata": {},
   "outputs": [],
   "source": [
    "# padding\n",
    "qq = np.zeros(shape = (bw.shape[0] + 2, bw.shape[1] + 2)).astype(int) #黑白\n",
    "for i in range(1, (qq.shape[0] - 1)):\n",
    "    for j in range(1, (qq.shape[1] - 1)):\n",
    "        qq[i, j] = bw[i-1, j-1]\n",
    "qaq = np.zeros(shape = qq.shape).astype(int)\n",
    "f0 = qq.copy()"
   ]
  },
  {
   "cell_type": "code",
   "execution_count": 4,
   "metadata": {
    "scrolled": true
   },
   "outputs": [
    {
     "name": "stdout",
     "output_type": "stream",
     "text": [
      "1\n",
      "2\n",
      "3\n",
      "4\n",
      "5\n",
      "6\n",
      "7\n",
      "8\n",
      "9\n",
      "10\n"
     ]
    }
   ],
   "source": [
    "# media axis transform Algo\n",
    "damn = 0\n",
    "qaq = np.zeros(shape = qq.shape)\n",
    "while True:\n",
    "    damn = damn + 1\n",
    "    print(damn)\n",
    "    for i in range(1, (qq.shape[0] - 1)):\n",
    "        for j in range(1, (qq.shape[1] - 1)):\n",
    "            qaq[i,j] =  f0[i,j] + min(qq[i, j-1], qq[i-1, j], qq[i+1, j], qq[i, j+1])\n",
    "    if (qq == qaq).all():\n",
    "        break\n",
    "    qq = qaq.copy()\n",
    "\n",
    "for i in range(1, (qq.shape[0] - 1)):\n",
    "    for j in range(1, (qq.shape[1] - 1)):\n",
    "        if qaq[i][j] >= max(qq[i][j-1], qq[i][j+1], qq[i-1][j], qq[i+1][j]) and qq[i][j]!= 0:\n",
    "            qaq[i][j] = 255\n",
    "        else :\n",
    "            qaq[i][j] = 0\n",
    "\n",
    "# remove padding\n",
    "qaq = qaq[1:-1, 1:-1]"
   ]
  },
  {
   "cell_type": "markdown",
   "metadata": {},
   "source": [
    "Question 2"
   ]
  },
  {
   "cell_type": "code",
   "execution_count": 6,
   "metadata": {},
   "outputs": [],
   "source": [
    "import cv2\n",
    "import numpy as np\n",
    "from matplotlib import pyplot as plt\n",
    "# read in gray scale\n",
    "lenna = cv2.imread(\"Lenna.png\", 0)"
   ]
  },
  {
   "cell_type": "code",
   "execution_count": 7,
   "metadata": {},
   "outputs": [],
   "source": [
    "from statistics import mean\n",
    "tem = 0; t1 = []\n",
    "def avg_con(lenna, mask_size):\n",
    "    global dianna\n",
    "    dist = (mask_size-1)/2\n",
    "    dianna = np.zeros(shape = (lenna.shape[0] - mask_size + 1, lenna.shape[1] - mask_size + 1))\n",
    "    for nrow in range(int(dist), int(lenna.shape[0] - dist)):\n",
    "        for ncol in range(int(dist), int(lenna.shape[1] - dist)):\n",
    "            dianna[int(nrow - dist), int(ncol - dist)]  = np.mean(lenna[int(nrow - dist): int(nrow + dist + 1), int(ncol - dist): int(ncol + dist + 1)])"
   ]
  },
  {
   "cell_type": "code",
   "execution_count": 23,
   "metadata": {},
   "outputs": [],
   "source": [
    "# please input odd mask_size\n",
    "avg_con(lenna, 3)\n",
    "gg = dianna.astype(int)"
   ]
  },
  {
   "cell_type": "code",
   "execution_count": 24,
   "metadata": {
    "scrolled": true
   },
   "outputs": [
    {
     "data": {
      "text/plain": [
       "True"
      ]
     },
     "execution_count": 24,
     "metadata": {},
     "output_type": "execute_result"
    }
   ],
   "source": [
    "cv2.imwrite(\"3.jpg\", gg)"
   ]
  }
 ],
 "metadata": {
  "kernelspec": {
   "display_name": "Python 3",
   "language": "python",
   "name": "python3"
  },
  "language_info": {
   "codemirror_mode": {
    "name": "ipython",
    "version": 3
   },
   "file_extension": ".py",
   "mimetype": "text/x-python",
   "name": "python",
   "nbconvert_exporter": "python",
   "pygments_lexer": "ipython3",
   "version": "3.7.1"
  }
 },
 "nbformat": 4,
 "nbformat_minor": 2
}
