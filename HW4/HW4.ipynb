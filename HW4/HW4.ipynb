{
 "cells": [
  {
   "cell_type": "markdown",
   "metadata": {},
   "source": [
    "Question 1"
   ]
  },
  {
   "cell_type": "code",
   "execution_count": 850,
   "metadata": {
    "scrolled": false
   },
   "outputs": [],
   "source": [
    "import numpy as np\n",
    "img1 = np.zeros(shape = (101, 101))\n",
    "img2 = img1.copy()\n",
    "for i in range(21):\n",
    "    for j in range(21):\n",
    "        img1[40+i, 6+j] = 255\n",
    "for i in range(21):\n",
    "    for j in range(21):\n",
    "        img2[41+i, 7+j] = 255\n",
    "# padding\n",
    "t1 = np.zeros(shape = (103, 103))\n",
    "for i in range(1, (t1.shape[0]-1), 1):\n",
    "    for j in range(1, (t1.shape[1]-1), 1):\n",
    "        t1[i, j] = img1[i-1, j-1]\n",
    "t2 = np.zeros(shape = (103, 103))\n",
    "for i in range(1, (t2.shape[0]-1), 1):\n",
    "    for j in range(1, (t2.shape[1]-1), 1):\n",
    "        t2[i, j] = img2[i-1, j-1]"
   ]
  },
  {
   "cell_type": "code",
   "execution_count": 851,
   "metadata": {},
   "outputs": [],
   "source": [
    "# Sobel filtering\n",
    "Fx = np.array([[[-1,0,1], [-2,0,2], [-1,0,1]]])\n",
    "Fx = np.squeeze(Fx/8)\n",
    "Fy = np.array([[[-1,-2,-1], [0,0,0], [1,2,1]]])\n",
    "Fy = np.squeeze(Fy/8)\n",
    "Fz = np.array([[[1,1,1], [1,1,1], [1,1,1]]])\n",
    "Fz = np.squeeze(Fz/9)\n",
    "def conv(image, mask):\n",
    "  # Height and width of output image\n",
    "    Hout = image.shape[0] - mask.shape[0] + 1\n",
    "    Wout = image.shape[1] - mask.shape[1] + 1\n",
    "    output = np.zeros(shape = (Hout, Wout))\n",
    "    for i in range(output.shape[0]):\n",
    "        for j in range(output.shape[1]):\n",
    "            output[i, j] = np.multiply(image[i : i + mask.shape[0], j : j + mask.shape[1]], mask).sum()\n",
    "    return output\n",
    "Ix = conv(t1, Fx)\n",
    "Iy = conv(t2, Fy)\n",
    "It = np.subtract(img2, img1)"
   ]
  },
  {
   "cell_type": "code",
   "execution_count": 852,
   "metadata": {},
   "outputs": [],
   "source": [
    "ix = np.ndarray.flatten(lx)\n",
    "iy = np.ndarray.flatten(ly)\n",
    "it = np.ndarray.flatten(It)"
   ]
  },
  {
   "cell_type": "code",
   "execution_count": 853,
   "metadata": {},
   "outputs": [],
   "source": [
    "L = np.array([[np.dot(ix, ix), np.dot(ix, iy)],[np.dot(iy, ix), np.dot(iy, iy)]])\n",
    "R = np.array([[(-1)*np.dot(ix, it)],[(-1)*np.dot(iy, it)]])"
   ]
  },
  {
   "cell_type": "code",
   "execution_count": 893,
   "metadata": {},
   "outputs": [
    {
     "name": "stderr",
     "output_type": "stream",
     "text": [
      "/anaconda3/lib/python3.7/site-packages/ipykernel_launcher.py:1: FutureWarning: `rcond` parameter will change to the default of machine precision times ``max(M, N)`` where M and N are the input matrix dimensions.\n",
      "To use the future default and silence this warning we advise to pass `rcond=None`, to keep using the old, explicitly pass `rcond=-1`.\n",
      "  \"\"\"Entry point for launching an IPython kernel.\n"
     ]
    }
   ],
   "source": [
    "x, residuals, rank, s = np.linalg.lstsq(L, R)"
   ]
  },
  {
   "cell_type": "code",
   "execution_count": 894,
   "metadata": {},
   "outputs": [],
   "source": [
    "u ,v = np.squeeze(x) # 向右下移0.99386503"
   ]
  },
  {
   "cell_type": "code",
   "execution_count": 895,
   "metadata": {},
   "outputs": [],
   "source": [
    "fx = np.flip(Fx)\n",
    "fy = np.flip(Fy)\n",
    "llx = conv(t1, fx)\n",
    "lly = conv(t2, fy)"
   ]
  },
  {
   "cell_type": "code",
   "execution_count": 896,
   "metadata": {},
   "outputs": [],
   "source": [
    "x = np.hstack(([40, 40, 61, 61], np.where(Ix > 0)[0], np.where(Iy > 0)[0], np.where(llx > 0)[0], np.where(lly > 0)[0])) \n",
    "y = np.hstack(([6, 27, 6, 27], np.where(Ix > 0)[1], np.where(Iy > 0)[1], np.where(llx > 0)[1], np.where(lly > 0)[1])) "
   ]
  },
  {
   "cell_type": "code",
   "execution_count": 897,
   "metadata": {},
   "outputs": [
    {
     "data": {
      "text/plain": [
       "array([[[0, 0, 0],\n",
       "        [0, 0, 0],\n",
       "        [0, 0, 0],\n",
       "        ...,\n",
       "        [0, 0, 0],\n",
       "        [0, 0, 0],\n",
       "        [0, 0, 0]],\n",
       "\n",
       "       [[0, 0, 0],\n",
       "        [0, 0, 0],\n",
       "        [0, 0, 0],\n",
       "        ...,\n",
       "        [0, 0, 0],\n",
       "        [0, 0, 0],\n",
       "        [0, 0, 0]],\n",
       "\n",
       "       [[0, 0, 0],\n",
       "        [0, 0, 0],\n",
       "        [0, 0, 0],\n",
       "        ...,\n",
       "        [0, 0, 0],\n",
       "        [0, 0, 0],\n",
       "        [0, 0, 0]],\n",
       "\n",
       "       ...,\n",
       "\n",
       "       [[0, 0, 0],\n",
       "        [0, 0, 0],\n",
       "        [0, 0, 0],\n",
       "        ...,\n",
       "        [0, 0, 0],\n",
       "        [0, 0, 0],\n",
       "        [0, 0, 0]],\n",
       "\n",
       "       [[0, 0, 0],\n",
       "        [0, 0, 0],\n",
       "        [0, 0, 0],\n",
       "        ...,\n",
       "        [0, 0, 0],\n",
       "        [0, 0, 0],\n",
       "        [0, 0, 0]],\n",
       "\n",
       "       [[0, 0, 0],\n",
       "        [0, 0, 0],\n",
       "        [0, 0, 0],\n",
       "        ...,\n",
       "        [0, 0, 0],\n",
       "        [0, 0, 0],\n",
       "        [0, 0, 0]]], dtype=uint8)"
      ]
     },
     "execution_count": 897,
     "metadata": {},
     "output_type": "execute_result"
    }
   ],
   "source": [
    "import cv2\n",
    "canvas = np.zeros((101, 101, 3), dtype=\"uint8\")\n",
    "for i in random.sample(range(len(x)), 10):\n",
    "    cv2.line(canvas, (x[i], y[i]), (int(x[i]+u), int(y[i]+v)), (255, 0, 0), 1) \n",
    "cv2.rectangle(canvas, (40, 6), (61, 27), (255,255,255))\n",
    "cv2.rectangle(canvas, (41, 7), (62, 28), (255,255,0))"
   ]
  },
  {
   "cell_type": "code",
   "execution_count": 898,
   "metadata": {},
   "outputs": [],
   "source": [
    "from PIL import Image\n",
    "cv = cv2.resize(canvas, (1024, 1024))\n",
    "np.max(cv)\n",
    "img = Image.fromarray(cv, \"RGB\")\n",
    "img.save(\"qaq.jpg\")\n",
    "img.show()"
   ]
  },
  {
   "cell_type": "markdown",
   "metadata": {},
   "source": [
    "Question 2"
   ]
  },
  {
   "cell_type": "code",
   "execution_count": 1,
   "metadata": {},
   "outputs": [],
   "source": [
    "import cv2\n",
    "import numpy as np\n",
    "\n",
    "def get_images_from_video(video_name):\n",
    "    global fps\n",
    "    video_images = []\n",
    "    vc = cv2.VideoCapture(video_name)\n",
    "    if vc.isOpened(): #判斷是否開啟影片\n",
    "        rval, video_frame = vc.read()\n",
    "    else:\n",
    "        rval = False\n",
    "    fps = int(vc.get(cv2.CAP_PROP_FPS))      # OpenCV2 version 2 used \"CV_CAP_PROP_FPS\"\n",
    "    frame_count = int(vc.get(cv2.CAP_PROP_FRAME_COUNT))\n",
    "    duration = frame_count/fps\n",
    "    for i in range(int(duration*fps)):\n",
    "        rval, video_frame = vc.read()\n",
    "        video_images.append(video_frame)\n",
    "\n",
    "    vc.release()\n",
    "    return video_images"
   ]
  },
  {
   "cell_type": "code",
   "execution_count": 2,
   "metadata": {},
   "outputs": [],
   "source": [
    "video_name = 'Person.wmv' #影片名稱\n",
    "video_images = get_images_from_video(video_name) #讀取影片並轉成圖片"
   ]
  },
  {
   "cell_type": "code",
   "execution_count": 531,
   "metadata": {},
   "outputs": [],
   "source": [
    "video_images = video_images[:-1]"
   ]
  },
  {
   "cell_type": "code",
   "execution_count": 532,
   "metadata": {},
   "outputs": [],
   "source": [
    "nrow, ncol = video_images[0].shape[0], video_images[0].shape[1]"
   ]
  },
  {
   "cell_type": "code",
   "execution_count": 533,
   "metadata": {},
   "outputs": [],
   "source": [
    "from math import sqrt, pi, exp\n",
    "def p(d, sigma):\n",
    "    return (1/sqrt(2*pi*sigma))*exp(-pow(d, 2)/(2*pow(sigma, 2)))\n",
    "def d(r, g, b):\n",
    "    return (sqrt(pow((r - 255), 2) + pow(g, 2) + pow(b, 2)))"
   ]
  },
  {
   "cell_type": "code",
   "execution_count": 534,
   "metadata": {},
   "outputs": [],
   "source": [
    "import random\n",
    "def cropdust():\n",
    "    x = list(range(0, nrow))\n",
    "    y = list(range(0, ncol))\n",
    "    z = []\n",
    "    for i in range(len(x)):\n",
    "        for j in range(len(y)):\n",
    "            z.append((x[i], y[j]))\n",
    "    init = random.sample(z, dot_num)\n",
    "\n",
    "    dot = np.zeros(shape = (nrow, ncol))\n",
    "    for i in range(len(init)):\n",
    "        x, y = init[i]\n",
    "        dot[x, y] = 1\n",
    "    return dot\n",
    "\n",
    "def partical(dot_num, sigma):\n",
    "    dot = cropdust()\n",
    "    prob = dot.copy()\n",
    "    video_images[0] = np.dstack((video_images[0], prob))\n",
    "    video_images[0] = np.dstack((video_images[0], dot))\n",
    "    for nframe in range((len(video_images) - 1)):\n",
    "        x, y = np.where(video_images[nframe][:,:,4] == 1)\n",
    "        ptem = 0\n",
    "        dot = np.zeros(shape = (nrow, ncol))\n",
    "        for i in range(len(x)):\n",
    "                b = video_images[nframe][x[i],y[i], 0]\n",
    "                g = video_images[nframe][x[i],y[i], 1]\n",
    "                r = video_images[nframe][x[i],y[i], 2]\n",
    "                prob[x[i],y[i]] = p(d(r, g, b), sigma)\n",
    "                ptem = prob[x[i],y[i]] + ptem\n",
    "        for i in range(len(x)):       \n",
    "                dot[x[i],y[i]] = round(1*(prob[x[i],y[i]]/ptem)*dot_num)\n",
    "        for i in range(nrow):\n",
    "            for j in range(ncol):\n",
    "                if int(dot[i, j]) > 0:\n",
    "                    t1 = random.choices(range(-30, 30, 1), k = int(dot[i, j]))        \n",
    "                    t2 = random.choices(range(-30, 30, 1), k = int(dot[i, j]))  \n",
    "                    t1 = abs(np.add(t1, i))\n",
    "                    t2 = abs(np.add(t2, j))\n",
    "                    for x in range(len(t1)):\n",
    "                        if t1[x] >= nrow:\n",
    "                            t1[x] = nrow - 1\n",
    "                    for y in range(len(t2)):\n",
    "                        if t2[y] >= ncol:\n",
    "                            t2[y] = ncol - 1\n",
    "                    for w in range(int(dot[i, j])):\n",
    "                            dot[t1[w], t2[w]] = 1\n",
    "        for i in range(nrow):\n",
    "            for j in range(ncol):\n",
    "                if dot[i, j] == 1:\n",
    "                    pass\n",
    "                else:\n",
    "                    dot[i, j] = 0\n",
    "        if ptem < 0.25:\n",
    "            dot = cropdust()\n",
    "        video_images[nframe + 1] = np.dstack((video_images[nframe + 1], prob))\n",
    "        video_images[nframe + 1] = np.dstack((video_images[nframe + 1], dot))\n",
    "        print(nframe)\n",
    "    return video_images\n"
   ]
  },
  {
   "cell_type": "code",
   "execution_count": 535,
   "metadata": {
    "scrolled": true
   },
   "outputs": [
    {
     "name": "stdout",
     "output_type": "stream",
     "text": [
      "0\n",
      "1\n",
      "2\n",
      "3\n",
      "4\n",
      "5\n",
      "6\n",
      "7\n",
      "8\n",
      "9\n",
      "10\n",
      "11\n",
      "12\n",
      "13\n",
      "14\n",
      "15\n",
      "16\n",
      "17\n",
      "18\n",
      "19\n",
      "20\n",
      "21\n",
      "22\n",
      "23\n",
      "24\n",
      "25\n",
      "26\n",
      "27\n",
      "28\n",
      "29\n",
      "30\n",
      "31\n",
      "32\n",
      "33\n",
      "34\n",
      "35\n",
      "36\n",
      "37\n",
      "38\n",
      "39\n",
      "40\n",
      "41\n",
      "42\n",
      "43\n",
      "44\n",
      "45\n",
      "46\n",
      "47\n",
      "48\n",
      "49\n",
      "50\n",
      "51\n",
      "52\n",
      "53\n",
      "54\n",
      "55\n",
      "56\n",
      "57\n",
      "58\n",
      "59\n",
      "60\n",
      "61\n",
      "62\n",
      "63\n",
      "64\n",
      "65\n",
      "66\n",
      "67\n",
      "68\n",
      "69\n",
      "70\n",
      "71\n",
      "72\n",
      "73\n",
      "74\n",
      "75\n",
      "76\n",
      "77\n",
      "78\n",
      "79\n",
      "80\n",
      "81\n",
      "82\n",
      "83\n",
      "84\n",
      "85\n",
      "86\n",
      "87\n",
      "88\n",
      "89\n",
      "90\n",
      "91\n",
      "92\n",
      "93\n",
      "94\n",
      "95\n",
      "96\n",
      "97\n",
      "98\n",
      "99\n",
      "100\n",
      "101\n",
      "102\n",
      "103\n",
      "104\n",
      "105\n",
      "106\n",
      "107\n",
      "108\n",
      "109\n",
      "110\n",
      "111\n",
      "112\n",
      "113\n",
      "114\n",
      "115\n",
      "116\n",
      "117\n",
      "118\n",
      "119\n",
      "120\n",
      "121\n",
      "122\n",
      "123\n",
      "124\n",
      "125\n",
      "126\n",
      "127\n",
      "128\n",
      "129\n",
      "130\n",
      "131\n",
      "132\n",
      "133\n",
      "134\n",
      "135\n",
      "136\n",
      "137\n",
      "138\n",
      "139\n",
      "140\n",
      "141\n",
      "142\n",
      "143\n",
      "144\n",
      "145\n",
      "146\n",
      "147\n",
      "148\n",
      "149\n",
      "150\n",
      "151\n",
      "152\n",
      "153\n",
      "154\n",
      "155\n",
      "156\n",
      "157\n",
      "158\n",
      "159\n",
      "160\n",
      "161\n",
      "162\n",
      "163\n",
      "164\n",
      "165\n",
      "166\n",
      "167\n",
      "168\n",
      "169\n",
      "170\n",
      "171\n",
      "172\n",
      "173\n",
      "174\n",
      "175\n",
      "176\n"
     ]
    }
   ],
   "source": [
    "x = partical(1000,70)"
   ]
  },
  {
   "cell_type": "code",
   "execution_count": 536,
   "metadata": {},
   "outputs": [],
   "source": [
    "for n in range(len(x)):\n",
    "    for i in range(nrow):\n",
    "        for j in range(ncol):\n",
    "            if x[n][i,j,4] == 1:\n",
    "                x[n][i,j,0] = 0\n",
    "                x[n][i,j,1] = 0\n",
    "                x[n][i,j,2] = 255"
   ]
  },
  {
   "cell_type": "code",
   "execution_count": 537,
   "metadata": {},
   "outputs": [],
   "source": [
    "tem = []\n",
    "for i in range(len(x)):\n",
    "    t = x[i][:,:,0:3]\n",
    "    t = t.astype('uint8')\n",
    "    tem.append(t)"
   ]
  },
  {
   "cell_type": "code",
   "execution_count": 538,
   "metadata": {
    "scrolled": true
   },
   "outputs": [],
   "source": [
    "fourcc = cv2.VideoWriter_fourcc(*'XVID')\n",
    "out = cv2.VideoWriter('project.wmv', fourcc, fps, (640, 480))\n",
    " \n",
    "for i in range(len(tem)):\n",
    "    out.write(tem[i])\n",
    "out.release()"
   ]
  },
  {
   "cell_type": "code",
   "execution_count": null,
   "metadata": {},
   "outputs": [],
   "source": []
  }
 ],
 "metadata": {
  "kernelspec": {
   "display_name": "Python 3",
   "language": "python",
   "name": "python3"
  },
  "language_info": {
   "codemirror_mode": {
    "name": "ipython",
    "version": 3
   },
   "file_extension": ".py",
   "mimetype": "text/x-python",
   "name": "python",
   "nbconvert_exporter": "python",
   "pygments_lexer": "ipython3",
   "version": "3.7.1"
  }
 },
 "nbformat": 4,
 "nbformat_minor": 2
}
