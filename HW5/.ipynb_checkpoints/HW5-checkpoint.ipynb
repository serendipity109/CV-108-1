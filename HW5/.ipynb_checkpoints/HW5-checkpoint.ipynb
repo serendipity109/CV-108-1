{
 "cells": [
  {
   "cell_type": "code",
   "execution_count": null,
   "metadata": {},
   "outputs": [],
   "source": [
    "Question1"
   ]
  },
  {
   "cell_type": "code",
   "execution_count": 212,
   "metadata": {},
   "outputs": [],
   "source": [
    "import numpy as np\n",
    "from PIL import Image, ImageTk\n",
    "T = Image.open('template.png')\n",
    "T = np.array(T)\n",
    "P = Image.open('search.png')\n",
    "P = np.array(P)\n",
    "n = T.shape[0]*T.shape[1]"
   ]
  },
  {
   "cell_type": "code",
   "execution_count": 213,
   "metadata": {},
   "outputs": [],
   "source": [
    "def NCC(T, P, n):\n",
    "    t = 0\n",
    "    tem = 0\n",
    "    for RGB in range(T.shape[2]):\n",
    "        Tmean = np.mean(T[:,:,RGB])\n",
    "        Pmean = np.mean(P[:,:,RGB])\n",
    "        Tstd = np.std(T[:,:,RGB])\n",
    "        Pstd = np.std(T[:,:,RGB])\n",
    "        Std = Tstd*Pstd\n",
    "        for nrow in range(T.shape[0]):\n",
    "            for ncol in range(T.shape[1]):\n",
    "                tem = tem + (P[nrow, ncol, RGB] - Pmean)*(T[nrow, ncol, RGB] - Tmean)/Std\n",
    "        t = t + tem/(n-1)\n",
    "    return t"
   ]
  },
  {
   "cell_type": "code",
   "execution_count": 214,
   "metadata": {},
   "outputs": [],
   "source": [
    "nrow = P.shape[0] - T.shape[0] \n",
    "ncol = P.shape[1] - T.shape[1]\n",
    "ncc = np.zeros((nrow, ncol))"
   ]
  },
  {
   "cell_type": "code",
   "execution_count": 217,
   "metadata": {},
   "outputs": [],
   "source": [
    "for i in range(ncc.shape[0]):\n",
    "    for j in range(ncc.shape[1]):\n",
    "        ncc[i, j] = NCC(T, P[i:(i + 47), j:(j + 69),:], n)"
   ]
  },
  {
   "cell_type": "code",
   "execution_count": 234,
   "metadata": {},
   "outputs": [],
   "source": [
    "sort = ncc.flatten()\n",
    "sort = -np.sort(-sort) # sorting scores"
   ]
  },
  {
   "cell_type": "code",
   "execution_count": 260,
   "metadata": {},
   "outputs": [
    {
     "data": {
      "image/png": "[encoded data removed]",
      "text/plain": [
       "<Figure size 432x288 with 1 Axes>"
      ]
     },
     "metadata": {
      "needs_background": "light"
     },
     "output_type": "display_data"
    }
   ],
   "source": [
    "%matplotlib inline\n",
    "import matplotlib.pyplot as plt\n",
    "plt.hist(sort)\n",
    "plt.show() # plot all of the sorting score"
   ]
  },
  {
   "cell_type": "code",
   "execution_count": 288,
   "metadata": {},
   "outputs": [
    {
     "name": "stdout",
     "output_type": "stream",
     "text": [
      "5.376891546258534\n",
      "5.374994194117244\n",
      "4.362597098102648\n",
      "3.758271780829599\n",
      "1.7042850283905797\n",
      "1.2161276765336022\n"
     ]
    }
   ],
   "source": [
    "closest = [1, 2, 5, 10, 100, 500]\n",
    "output = []\n",
    "for i in closest:\n",
    "    print(sort[(i - 1)])\n",
    "    x, y = np.where(ncc == sort[(i - 1)])\n",
    "    output.append(P[x[0]:(x[0] + 47), y[0]:(y[0] + 69),:])"
   ]
  },
  {
   "cell_type": "code",
   "execution_count": 289,
   "metadata": {},
   "outputs": [],
   "source": [
    "t = 0\n",
    "for i in closest:\n",
    "    a = output[t]\n",
    "    cv2.imwrite('elephant'+ str(i) +'.jpg', cv2.cvtColor(a, cv2.COLOR_RGB2BGR))\n",
    "    t = t + 1"
   ]
  },
  {
   "cell_type": "code",
   "execution_count": null,
   "metadata": {},
   "outputs": [],
   "source": [
    "Question2"
   ]
  },
  {
   "cell_type": "code",
   "execution_count": 81,
   "metadata": {},
   "outputs": [],
   "source": [
    "import numpy as np\n",
    "import cv2\n",
    "from math import pi\n",
    "\n",
    "# Sobel x-axis kernel\n",
    "SOBEL_X = np.array((\n",
    "    [-1, 0, 1],\n",
    "    [-2, 0, 2],\n",
    "    [-1, 0, 1]), dtype=\"int32\")\n",
    "\n",
    "# Sobel y-axis kernel\n",
    "SOBEL_Y = np.array((\n",
    "    [-1, -2, -1],\n",
    "    [0, 0, 0],\n",
    "    [1, 2, 1]), dtype=\"int32\")\n",
    "\n",
    "def gaussian_smooth(size = 3):\n",
    "    x, y = np.mgrid[-(size-2):(size-1), -(size-2):(size-1)]\n",
    "    gaussian_kernel = np.multiply(1/(2*pi*(9**2)), np.exp(-(x**2+y**2)/(2*(9**2))))\n",
    "    gaussian_kernel = gaussian_kernel / gaussian_kernel.sum()\n",
    "    return gaussian_kernel\n",
    "GAUSS = gaussian_smooth(9)\n",
    "\n",
    "def convolve(img, kernel):\n",
    "    \"\"\"Performs a naive convolution.\"\"\"\n",
    "    if kernel.shape[0] % 2 != 1 or kernel.shape[1] % 2 != 1:\n",
    "        raise ValueError(\"Only odd dimensions on filter supported\")\n",
    "\n",
    "    img_height = img.shape[0]\n",
    "    img_width = img.shape[1]\n",
    "    pad_height = kernel.shape[0] // 2\n",
    "    pad_width = kernel.shape[1] // 2\n",
    "    # Allocate result image.\n",
    "    pad = ((pad_height, pad_height), (pad_height, pad_width))\n",
    "    g = np.empty(img.shape, dtype=np.float64)\n",
    "    img = np.pad(img, pad, mode='constant', constant_values=0)\n",
    "    # Do convolution\n",
    "    for i in np.arange(pad_height, img_height+pad_height):\n",
    "        for j in np.arange(pad_width, img_width+pad_width):\n",
    "            roi = img[i - pad_height:i + pad_height +\n",
    "                      1, j - pad_width:j + pad_width + 1]\n",
    "            g[i - pad_height, j - pad_width] = (roi*kernel).sum()\n",
    "\n",
    "    if (g.dtype == np.float64):\n",
    "        kernel = kernel / 255.0\n",
    "        kernel = (kernel*255).astype(np.uint8)\n",
    "    else:\n",
    "        g = g + abs(np.amin(g))\n",
    "        g = g / np.amax(g)\n",
    "        g = (g*255.0)\n",
    "\n",
    "    return g\n",
    "\n",
    "\n",
    "def harris(img, threshold = 127, alpha = 0.06):\n",
    "    global R\n",
    "    img_cpy = img.copy()\n",
    "    zero = np.zeros(shape = img.shape)\n",
    "    # Grayscale\n",
    "    img1_gray = cv2.cvtColor(img, cv2.COLOR_BGR2GRAY)\n",
    "    # sharpen\n",
    "    kernel = np.array([[-1,-1,-1], [-1,9,-1], [-1,-1,-1]])\n",
    "    iimg1_gray = cv2.filter2D(img1_gray, -1, kernel)\n",
    "\n",
    "    dx = convolve(img1_gray, SOBEL_X)\n",
    "    dy = convolve(img1_gray, SOBEL_Y)\n",
    "\n",
    "    dx2 = np.square(dx)\n",
    "    dy2 = np.square(dy)\n",
    "    dxdy = dx*dy\n",
    "\n",
    "    g_dx2 = convolve(dx2, GAUSS)\n",
    "    g_dy2 = convolve(dy2, GAUSS)\n",
    "    g_dxdy = convolve(dxdy, GAUSS)\n",
    "\n",
    "    R = g_dx2*g_dy2 - np.square(g_dxdy) - alpha*np.square(g_dx2 + g_dy2)\n",
    "    R *= 255.0/R.max() \n",
    "    # find all points above threshold\n",
    "    loc = np.where(R >= threshold)\n",
    "    # loop though the points\n",
    "    for pt in zip(*loc[::-1]):\n",
    "        # draw filled circle on each point\n",
    "        cv2.circle(img_cpy, pt, 5, (255, 0, 0), -1)\n",
    "    return img_cpy"
   ]
  },
  {
   "cell_type": "code",
   "execution_count": 87,
   "metadata": {},
   "outputs": [],
   "source": [
    "b = cv2.imread('Desktop/高等影像處理/斑馬線辨識/03.jpg')\n",
    "c = harris(b, 80, 0.06)"
   ]
  },
  {
   "cell_type": "code",
   "execution_count": 88,
   "metadata": {
    "scrolled": true
   },
   "outputs": [
    {
     "data": {
      "text/plain": [
       "True"
      ]
     },
     "execution_count": 88,
     "metadata": {},
     "output_type": "execute_result"
    }
   ],
   "source": [
    "cv2.imwrite('Desktop/qq.jpg', c)"
   ]
  },
  {
   "cell_type": "code",
   "execution_count": 84,
   "metadata": {},
   "outputs": [
    {
     "data": {
      "text/plain": [
       "(array([  1,   2,   2, ..., 676, 676, 677]),\n",
       " array([1018, 1016, 1017, ...,  473,  474,  469]))"
      ]
     },
     "execution_count": 84,
     "metadata": {},
     "output_type": "execute_result"
    }
   ],
   "source": [
    "np.where(R > 80)"
   ]
  },
  {
   "cell_type": "code",
   "execution_count": 72,
   "metadata": {},
   "outputs": [],
   "source": [
    "kernel = np.array([[-1,-1,-1], [-1,9,-1], [-1,-1,-1]])\n",
    "im = cv2.filter2D(c, -1, kernel)"
   ]
  },
  {
   "cell_type": "code",
   "execution_count": 73,
   "metadata": {},
   "outputs": [
    {
     "data": {
      "text/plain": [
       "True"
      ]
     },
     "execution_count": 73,
     "metadata": {},
     "output_type": "execute_result"
    }
   ],
   "source": [
    "cv2.imwrite('Desktop/qq.jpg', im)"
   ]
  },
  {
   "cell_type": "code",
   "execution_count": null,
   "metadata": {},
   "outputs": [],
   "source": []
  }
 ],
 "metadata": {
  "kernelspec": {
   "display_name": "Python 3",
   "language": "python",
   "name": "python3"
  },
  "language_info": {
   "codemirror_mode": {
    "name": "ipython",
    "version": 3
   },
   "file_extension": ".py",
   "mimetype": "text/x-python",
   "name": "python",
   "nbconvert_exporter": "python",
   "pygments_lexer": "ipython3",
   "version": "3.7.1"
  }
 },
 "nbformat": 4,
 "nbformat_minor": 2
}
